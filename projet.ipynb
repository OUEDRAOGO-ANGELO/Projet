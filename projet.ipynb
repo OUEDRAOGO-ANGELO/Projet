{
 "cells": [
  {
   "cell_type": "code",
   "execution_count": 1,
   "metadata": {},
   "outputs": [],
   "source": [
    "#!pip install dask[complete]"
   ]
  },
  {
   "cell_type": "code",
   "execution_count": 29,
   "metadata": {},
   "outputs": [],
   "source": [
    "import dask.dataframe as dd\n",
    "import numpy\n",
    "import pandas as pd\n",
    "import os\n",
    "from commun import fonctions\n",
    "import matplotlib.pyplot as plt"
   ]
  },
  {
   "cell_type": "code",
   "execution_count": 30,
   "metadata": {},
   "outputs": [
    {
     "name": "stdout",
     "output_type": "stream",
     "text": [
      "Ce HDFStore n'est pas partitionnable et ne peut être utilisé de manière monolithique qu'avec pandas.\n",
      "Création d'un nouveau fichier de données: 'Aircraft_01_dask.h5'\n"
     ]
    },
    {
     "ename": "HDF5ExtError",
     "evalue": "Problems creating the LastRowArray.",
     "output_type": "error",
     "traceback": [
      "\u001b[1;31m---------------------------------------------------------------------------\u001b[0m",
      "\u001b[1;31mTypeError\u001b[0m                                 Traceback (most recent call last)",
      "File \u001b[1;32m~\\AppData\\Local\\Packages\\PythonSoftwareFoundation.Python.3.11_qbz5n2kfra8p0\\LocalCache\\local-packages\\Python311\\site-packages\\dask\\backends.py:136\u001b[0m, in \u001b[0;36mCreationDispatch.register_inplace.<locals>.decorator.<locals>.wrapper\u001b[1;34m(*args, **kwargs)\u001b[0m\n\u001b[0;32m    135\u001b[0m \u001b[39mtry\u001b[39;00m:\n\u001b[1;32m--> 136\u001b[0m     \u001b[39mreturn\u001b[39;00m func(\u001b[39m*\u001b[39;49margs, \u001b[39m*\u001b[39;49m\u001b[39m*\u001b[39;49mkwargs)\n\u001b[0;32m    137\u001b[0m \u001b[39mexcept\u001b[39;00m \u001b[39mException\u001b[39;00m \u001b[39mas\u001b[39;00m e:\n",
      "File \u001b[1;32m~\\AppData\\Local\\Packages\\PythonSoftwareFoundation.Python.3.11_qbz5n2kfra8p0\\LocalCache\\local-packages\\Python311\\site-packages\\dask\\dataframe\\io\\hdf.py:459\u001b[0m, in \u001b[0;36mread_hdf\u001b[1;34m(pattern, key, start, stop, columns, chunksize, sorted_index, lock, mode)\u001b[0m\n\u001b[0;32m    458\u001b[0m \u001b[39m# Build parts\u001b[39;00m\n\u001b[1;32m--> 459\u001b[0m parts, divisions \u001b[39m=\u001b[39m _build_parts(\n\u001b[0;32m    460\u001b[0m     paths, key, start, stop, chunksize, sorted_index, mode\n\u001b[0;32m    461\u001b[0m )\n\u001b[0;32m    463\u001b[0m \u001b[39m# Construct the output collection with from_map\u001b[39;00m\n",
      "File \u001b[1;32m~\\AppData\\Local\\Packages\\PythonSoftwareFoundation.Python.3.11_qbz5n2kfra8p0\\LocalCache\\local-packages\\Python311\\site-packages\\dask\\dataframe\\io\\hdf.py:482\u001b[0m, in \u001b[0;36m_build_parts\u001b[1;34m(paths, key, start, stop, chunksize, sorted_index, mode)\u001b[0m\n\u001b[0;32m    481\u001b[0m \u001b[39mfor\u001b[39;00m path \u001b[39min\u001b[39;00m paths:\n\u001b[1;32m--> 482\u001b[0m     keys, stops, divisions \u001b[39m=\u001b[39m _get_keys_stops_divisions(\n\u001b[0;32m    483\u001b[0m         path, key, stop, sorted_index, chunksize, mode\n\u001b[0;32m    484\u001b[0m     )\n\u001b[0;32m    486\u001b[0m     \u001b[39mfor\u001b[39;00m k, s, d \u001b[39min\u001b[39;00m \u001b[39mzip\u001b[39m(keys, stops, divisions):\n",
      "File \u001b[1;32m~\\AppData\\Local\\Packages\\PythonSoftwareFoundation.Python.3.11_qbz5n2kfra8p0\\LocalCache\\local-packages\\Python311\\site-packages\\dask\\dataframe\\io\\hdf.py:548\u001b[0m, in \u001b[0;36m_get_keys_stops_divisions\u001b[1;34m(path, key, stop, sorted_index, chunksize, mode)\u001b[0m\n\u001b[0;32m    547\u001b[0m \u001b[39mif\u001b[39;00m storer\u001b[39m.\u001b[39mformat_type \u001b[39m!=\u001b[39m \u001b[39m\"\u001b[39m\u001b[39mtable\u001b[39m\u001b[39m\"\u001b[39m:\n\u001b[1;32m--> 548\u001b[0m     \u001b[39mraise\u001b[39;00m \u001b[39mTypeError\u001b[39;00m(dont_use_fixed_error_message)\n\u001b[0;32m    549\u001b[0m \u001b[39mif\u001b[39;00m stop \u001b[39mis\u001b[39;00m \u001b[39mNone\u001b[39;00m:\n",
      "\u001b[1;31mTypeError\u001b[0m: \nThis HDFStore is not partitionable and can only be use monolithically with\npandas.  In the future when creating HDFStores use the ``format='table'``\noption to ensure that your dataset can be parallelized",
      "\nThe above exception was the direct cause of the following exception:\n",
      "\u001b[1;31mTypeError\u001b[0m                                 Traceback (most recent call last)",
      "File \u001b[1;32mc:\\Users\\djame\\Desktop\\MACS 3\\Stats descriptives\\projet\\commun\\fonctions.py:35\u001b[0m, in \u001b[0;36mlire_hdf_dask\u001b[1;34m(nom_fichier, repertoire)\u001b[0m\n\u001b[0;32m     34\u001b[0m \u001b[39mtry\u001b[39;00m:\n\u001b[1;32m---> 35\u001b[0m     \u001b[39mreturn\u001b[39;00m dd\u001b[39m.\u001b[39;49mread_hdf(chemin_fichier, \u001b[39m'\u001b[39;49m\u001b[39m*\u001b[39;49m\u001b[39m'\u001b[39;49m)\n\u001b[0;32m     36\u001b[0m \u001b[39mexcept\u001b[39;00m \u001b[39mTypeError\u001b[39;00m:\n",
      "File \u001b[1;32m~\\AppData\\Local\\Packages\\PythonSoftwareFoundation.Python.3.11_qbz5n2kfra8p0\\LocalCache\\local-packages\\Python311\\site-packages\\dask\\backends.py:138\u001b[0m, in \u001b[0;36mCreationDispatch.register_inplace.<locals>.decorator.<locals>.wrapper\u001b[1;34m(*args, **kwargs)\u001b[0m\n\u001b[0;32m    137\u001b[0m \u001b[39mexcept\u001b[39;00m \u001b[39mException\u001b[39;00m \u001b[39mas\u001b[39;00m e:\n\u001b[1;32m--> 138\u001b[0m     \u001b[39mraise\u001b[39;00m \u001b[39mtype\u001b[39m(e)(\n\u001b[0;32m    139\u001b[0m         \u001b[39mf\u001b[39m\u001b[39m\"\u001b[39m\u001b[39mAn error occurred while calling the \u001b[39m\u001b[39m{\u001b[39;00mfuncname(func)\u001b[39m}\u001b[39;00m\u001b[39m \u001b[39m\u001b[39m\"\u001b[39m\n\u001b[0;32m    140\u001b[0m         \u001b[39mf\u001b[39m\u001b[39m\"\u001b[39m\u001b[39mmethod registered to the \u001b[39m\u001b[39m{\u001b[39;00m\u001b[39mself\u001b[39m\u001b[39m.\u001b[39mbackend\u001b[39m}\u001b[39;00m\u001b[39m backend.\u001b[39m\u001b[39m\\n\u001b[39;00m\u001b[39m\"\u001b[39m\n\u001b[0;32m    141\u001b[0m         \u001b[39mf\u001b[39m\u001b[39m\"\u001b[39m\u001b[39mOriginal Message: \u001b[39m\u001b[39m{\u001b[39;00me\u001b[39m}\u001b[39;00m\u001b[39m\"\u001b[39m\n\u001b[0;32m    142\u001b[0m     ) \u001b[39mfrom\u001b[39;00m \u001b[39me\u001b[39;00m\n",
      "\u001b[1;31mTypeError\u001b[0m: An error occurred while calling the read_hdf method registered to the pandas backend.\nOriginal Message: \nThis HDFStore is not partitionable and can only be use monolithically with\npandas.  In the future when creating HDFStores use the ``format='table'``\noption to ensure that your dataset can be parallelized",
      "\nDuring handling of the above exception, another exception occurred:\n",
      "\u001b[1;31mHDF5ExtError\u001b[0m                              Traceback (most recent call last)",
      "\u001b[1;32mc:\\Users\\djame\\Desktop\\MACS 3\\Stats descriptives\\projet\\projet.ipynb Cell 3\u001b[0m line \u001b[0;36m1\n\u001b[0;32m      <a href='vscode-notebook-cell:/c%3A/Users/djame/Desktop/MACS%203/Stats%20descriptives/projet/projet.ipynb#W4sZmlsZQ%3D%3D?line=7'>8</a>\u001b[0m     \u001b[39mreturn\u001b[39;00m extract\n\u001b[0;32m     <a href='vscode-notebook-cell:/c%3A/Users/djame/Desktop/MACS%203/Stats%20descriptives/projet/projet.ipynb#W4sZmlsZQ%3D%3D?line=9'>10</a>\u001b[0m current_rep\u001b[39m=\u001b[39mos\u001b[39m.\u001b[39mgetcwd()\n\u001b[1;32m---> <a href='vscode-notebook-cell:/c%3A/Users/djame/Desktop/MACS%203/Stats%20descriptives/projet/projet.ipynb#W4sZmlsZQ%3D%3D?line=10'>11</a>\u001b[0m extract\u001b[39m=\u001b[39mextract_h5(current_rep)\n",
      "\u001b[1;32mc:\\Users\\djame\\Desktop\\MACS 3\\Stats descriptives\\projet\\projet.ipynb Cell 3\u001b[0m line \u001b[0;36m5\n\u001b[0;32m      <a href='vscode-notebook-cell:/c%3A/Users/djame/Desktop/MACS%203/Stats%20descriptives/projet/projet.ipynb#W4sZmlsZQ%3D%3D?line=2'>3</a>\u001b[0m \u001b[39mfor\u001b[39;00m nom_fichier \u001b[39min\u001b[39;00m os\u001b[39m.\u001b[39mlistdir(repertoire_source):\n\u001b[0;32m      <a href='vscode-notebook-cell:/c%3A/Users/djame/Desktop/MACS%203/Stats%20descriptives/projet/projet.ipynb#W4sZmlsZQ%3D%3D?line=3'>4</a>\u001b[0m     \u001b[39mif\u001b[39;00m nom_fichier[\u001b[39m-\u001b[39m\u001b[39m3\u001b[39m:]\u001b[39m==\u001b[39m\u001b[39m'\u001b[39m\u001b[39m.h5\u001b[39m\u001b[39m'\u001b[39m:\n\u001b[1;32m----> <a href='vscode-notebook-cell:/c%3A/Users/djame/Desktop/MACS%203/Stats%20descriptives/projet/projet.ipynb#W4sZmlsZQ%3D%3D?line=4'>5</a>\u001b[0m         ddf\u001b[39m=\u001b[39mfonctions\u001b[39m.\u001b[39;49mlire_hdf_dask(nom_fichier, repertoire_source)\n\u001b[0;32m      <a href='vscode-notebook-cell:/c%3A/Users/djame/Desktop/MACS%203/Stats%20descriptives/projet/projet.ipynb#W4sZmlsZQ%3D%3D?line=5'>6</a>\u001b[0m         extract[nom_fichier]\u001b[39m=\u001b[39mddf\n\u001b[0;32m      <a href='vscode-notebook-cell:/c%3A/Users/djame/Desktop/MACS%203/Stats%20descriptives/projet/projet.ipynb#W4sZmlsZQ%3D%3D?line=6'>7</a>\u001b[0m         \u001b[39mprint\u001b[39m(\u001b[39mf\u001b[39m\u001b[39m\"\u001b[39m\u001b[39mDataFrame Dask du fichier \u001b[39m\u001b[39m{\u001b[39;00mnom_fichier\u001b[39m}\u001b[39;00m\u001b[39m a été chargé\u001b[39m\u001b[39m\"\u001b[39m)\n",
      "File \u001b[1;32mc:\\Users\\djame\\Desktop\\MACS 3\\Stats descriptives\\projet\\commun\\fonctions.py:48\u001b[0m, in \u001b[0;36mlire_hdf_dask\u001b[1;34m(nom_fichier, repertoire)\u001b[0m\n\u001b[0;32m     46\u001b[0m \u001b[39mwith\u001b[39;00m pd\u001b[39m.\u001b[39mHDFStore(fichier_partitionne, mode\u001b[39m=\u001b[39m\u001b[39m'\u001b[39m\u001b[39mw\u001b[39m\u001b[39m'\u001b[39m) \u001b[39mas\u001b[39;00m h:\n\u001b[0;32m     47\u001b[0m     \u001b[39mfor\u001b[39;00m key \u001b[39min\u001b[39;00m keys_store:\n\u001b[1;32m---> 48\u001b[0m         h\u001b[39m.\u001b[39;49mput(key, store[key], \u001b[39mformat\u001b[39;49m\u001b[39m=\u001b[39;49m\u001b[39m'\u001b[39;49m\u001b[39mtable\u001b[39;49m\u001b[39m'\u001b[39;49m)\n\u001b[0;32m     49\u001b[0m \u001b[39mprint\u001b[39m(\u001b[39mf\u001b[39m\u001b[39m\"\u001b[39m\u001b[39mLecture du fichier de données: \u001b[39m\u001b[39m'\u001b[39m\u001b[39m{\u001b[39;00mnom_fichier[:\u001b[39m-\u001b[39m\u001b[39m3\u001b[39m]\u001b[39m}\u001b[39;00m\u001b[39m_dask.h5\u001b[39m\u001b[39m'\u001b[39m\u001b[39m\"\u001b[39m)\n\u001b[0;32m     50\u001b[0m \u001b[39mreturn\u001b[39;00m dd\u001b[39m.\u001b[39mread_hdf(fichier_partitionne, \u001b[39m'\u001b[39m\u001b[39m*\u001b[39m\u001b[39m'\u001b[39m)\n",
      "File \u001b[1;32m~\\AppData\\Local\\Packages\\PythonSoftwareFoundation.Python.3.11_qbz5n2kfra8p0\\LocalCache\\local-packages\\Python311\\site-packages\\pandas\\io\\pytables.py:1160\u001b[0m, in \u001b[0;36mHDFStore.put\u001b[1;34m(self, key, value, format, index, append, complib, complevel, min_itemsize, nan_rep, data_columns, encoding, errors, track_times, dropna)\u001b[0m\n\u001b[0;32m   1158\u001b[0m     \u001b[39mformat\u001b[39m \u001b[39m=\u001b[39m get_option(\u001b[39m\"\u001b[39m\u001b[39mio.hdf.default_format\u001b[39m\u001b[39m\"\u001b[39m) \u001b[39mor\u001b[39;00m \u001b[39m\"\u001b[39m\u001b[39mfixed\u001b[39m\u001b[39m\"\u001b[39m\n\u001b[0;32m   1159\u001b[0m \u001b[39mformat\u001b[39m \u001b[39m=\u001b[39m \u001b[39mself\u001b[39m\u001b[39m.\u001b[39m_validate_format(\u001b[39mformat\u001b[39m)\n\u001b[1;32m-> 1160\u001b[0m \u001b[39mself\u001b[39;49m\u001b[39m.\u001b[39;49m_write_to_group(\n\u001b[0;32m   1161\u001b[0m     key,\n\u001b[0;32m   1162\u001b[0m     value,\n\u001b[0;32m   1163\u001b[0m     \u001b[39mformat\u001b[39;49m\u001b[39m=\u001b[39;49m\u001b[39mformat\u001b[39;49m,\n\u001b[0;32m   1164\u001b[0m     index\u001b[39m=\u001b[39;49mindex,\n\u001b[0;32m   1165\u001b[0m     append\u001b[39m=\u001b[39;49mappend,\n\u001b[0;32m   1166\u001b[0m     complib\u001b[39m=\u001b[39;49mcomplib,\n\u001b[0;32m   1167\u001b[0m     complevel\u001b[39m=\u001b[39;49mcomplevel,\n\u001b[0;32m   1168\u001b[0m     min_itemsize\u001b[39m=\u001b[39;49mmin_itemsize,\n\u001b[0;32m   1169\u001b[0m     nan_rep\u001b[39m=\u001b[39;49mnan_rep,\n\u001b[0;32m   1170\u001b[0m     data_columns\u001b[39m=\u001b[39;49mdata_columns,\n\u001b[0;32m   1171\u001b[0m     encoding\u001b[39m=\u001b[39;49mencoding,\n\u001b[0;32m   1172\u001b[0m     errors\u001b[39m=\u001b[39;49merrors,\n\u001b[0;32m   1173\u001b[0m     track_times\u001b[39m=\u001b[39;49mtrack_times,\n\u001b[0;32m   1174\u001b[0m     dropna\u001b[39m=\u001b[39;49mdropna,\n\u001b[0;32m   1175\u001b[0m )\n",
      "File \u001b[1;32m~\\AppData\\Local\\Packages\\PythonSoftwareFoundation.Python.3.11_qbz5n2kfra8p0\\LocalCache\\local-packages\\Python311\\site-packages\\pandas\\io\\pytables.py:1875\u001b[0m, in \u001b[0;36mHDFStore._write_to_group\u001b[1;34m(self, key, value, format, axes, index, append, complib, complevel, fletcher32, min_itemsize, chunksize, expectedrows, dropna, nan_rep, data_columns, encoding, errors, track_times)\u001b[0m\n\u001b[0;32m   1858\u001b[0m s\u001b[39m.\u001b[39mwrite(\n\u001b[0;32m   1859\u001b[0m     obj\u001b[39m=\u001b[39mvalue,\n\u001b[0;32m   1860\u001b[0m     axes\u001b[39m=\u001b[39maxes,\n\u001b[1;32m   (...)\u001b[0m\n\u001b[0;32m   1871\u001b[0m     track_times\u001b[39m=\u001b[39mtrack_times,\n\u001b[0;32m   1872\u001b[0m )\n\u001b[0;32m   1874\u001b[0m \u001b[39mif\u001b[39;00m \u001b[39misinstance\u001b[39m(s, Table) \u001b[39mand\u001b[39;00m index:\n\u001b[1;32m-> 1875\u001b[0m     s\u001b[39m.\u001b[39;49mcreate_index(columns\u001b[39m=\u001b[39;49mindex)\n",
      "File \u001b[1;32m~\\AppData\\Local\\Packages\\PythonSoftwareFoundation.Python.3.11_qbz5n2kfra8p0\\LocalCache\\local-packages\\Python311\\site-packages\\pandas\\io\\pytables.py:3787\u001b[0m, in \u001b[0;36mTable.create_index\u001b[1;34m(self, columns, optlevel, kind)\u001b[0m\n\u001b[0;32m   3779\u001b[0m         \u001b[39mif\u001b[39;00m v\u001b[39m.\u001b[39mtype\u001b[39m.\u001b[39mstartswith(\u001b[39m\"\u001b[39m\u001b[39mcomplex\u001b[39m\u001b[39m\"\u001b[39m):\n\u001b[0;32m   3780\u001b[0m             \u001b[39mraise\u001b[39;00m \u001b[39mTypeError\u001b[39;00m(\n\u001b[0;32m   3781\u001b[0m                 \u001b[39m\"\u001b[39m\u001b[39mColumns containing complex values can be stored but \u001b[39m\u001b[39m\"\u001b[39m\n\u001b[0;32m   3782\u001b[0m                 \u001b[39m\"\u001b[39m\u001b[39mcannot be indexed when using table format. Either use \u001b[39m\u001b[39m\"\u001b[39m\n\u001b[1;32m   (...)\u001b[0m\n\u001b[0;32m   3785\u001b[0m                 \u001b[39m\"\u001b[39m\u001b[39mdata_columns when initializing the table.\u001b[39m\u001b[39m\"\u001b[39m\n\u001b[0;32m   3786\u001b[0m             )\n\u001b[1;32m-> 3787\u001b[0m         v\u001b[39m.\u001b[39;49mcreate_index(\u001b[39m*\u001b[39;49m\u001b[39m*\u001b[39;49mkw)\n\u001b[0;32m   3788\u001b[0m \u001b[39melif\u001b[39;00m c \u001b[39min\u001b[39;00m \u001b[39mself\u001b[39m\u001b[39m.\u001b[39mnon_index_axes[\u001b[39m0\u001b[39m][\u001b[39m1\u001b[39m]:\n\u001b[0;32m   3789\u001b[0m     \u001b[39m# GH 28156\u001b[39;00m\n\u001b[0;32m   3790\u001b[0m     \u001b[39mraise\u001b[39;00m \u001b[39mAttributeError\u001b[39;00m(\n\u001b[0;32m   3791\u001b[0m         \u001b[39mf\u001b[39m\u001b[39m\"\u001b[39m\u001b[39mcolumn \u001b[39m\u001b[39m{\u001b[39;00mc\u001b[39m}\u001b[39;00m\u001b[39m is not a data_column.\u001b[39m\u001b[39m\\n\u001b[39;00m\u001b[39m\"\u001b[39m\n\u001b[0;32m   3792\u001b[0m         \u001b[39mf\u001b[39m\u001b[39m\"\u001b[39m\u001b[39mIn order to read column \u001b[39m\u001b[39m{\u001b[39;00mc\u001b[39m}\u001b[39;00m\u001b[39m you must reload the dataframe \u001b[39m\u001b[39m\\n\u001b[39;00m\u001b[39m\"\u001b[39m\n\u001b[0;32m   3793\u001b[0m         \u001b[39mf\u001b[39m\u001b[39m\"\u001b[39m\u001b[39minto HDFStore and include \u001b[39m\u001b[39m{\u001b[39;00mc\u001b[39m}\u001b[39;00m\u001b[39m with the data_columns argument.\u001b[39m\u001b[39m\"\u001b[39m\n\u001b[0;32m   3794\u001b[0m     )\n",
      "File \u001b[1;32m~\\AppData\\Local\\Packages\\PythonSoftwareFoundation.Python.3.11_qbz5n2kfra8p0\\LocalCache\\local-packages\\Python311\\site-packages\\tables\\table.py:3580\u001b[0m, in \u001b[0;36mColumn.create_index\u001b[1;34m(self, optlevel, kind, filters, tmp_dir, _blocksizes, _testmode, _verbose)\u001b[0m\n\u001b[0;32m   3576\u001b[0m \u001b[39mif\u001b[39;00m (_blocksizes \u001b[39mis\u001b[39;00m \u001b[39mnot\u001b[39;00m \u001b[39mNone\u001b[39;00m \u001b[39mand\u001b[39;00m\n\u001b[0;32m   3577\u001b[0m         (\u001b[39mnot\u001b[39;00m \u001b[39misinstance\u001b[39m(_blocksizes, \u001b[39mtuple\u001b[39m) \u001b[39mor\u001b[39;00m \u001b[39mlen\u001b[39m(_blocksizes) \u001b[39m!=\u001b[39m \u001b[39m4\u001b[39m)):\n\u001b[0;32m   3578\u001b[0m     \u001b[39mraise\u001b[39;00m \u001b[39mValueError\u001b[39;00m(\u001b[39m\"\u001b[39m\u001b[39m_blocksizes must be a tuple with exactly 4 \u001b[39m\u001b[39m\"\u001b[39m\n\u001b[0;32m   3579\u001b[0m                      \u001b[39m\"\u001b[39m\u001b[39melements\u001b[39m\u001b[39m\"\u001b[39m)\n\u001b[1;32m-> 3580\u001b[0m idxrows \u001b[39m=\u001b[39m _column__create_index(\u001b[39mself\u001b[39;49m, optlevel, kind, filters,\n\u001b[0;32m   3581\u001b[0m                                 tmp_dir, _blocksizes, _verbose)\n\u001b[0;32m   3582\u001b[0m \u001b[39mreturn\u001b[39;00m SizeType(idxrows)\n",
      "File \u001b[1;32m~\\AppData\\Local\\Packages\\PythonSoftwareFoundation.Python.3.11_qbz5n2kfra8p0\\LocalCache\\local-packages\\Python311\\site-packages\\tables\\table.py:285\u001b[0m, in \u001b[0;36m_column__create_index\u001b[1;34m(self, optlevel, kind, filters, tmp_dir, blocksizes, verbose)\u001b[0m\n\u001b[0;32m    282\u001b[0m     expectedrows \u001b[39m=\u001b[39m table\u001b[39m.\u001b[39mnrows\n\u001b[0;32m    284\u001b[0m \u001b[39m# Create the index itself\u001b[39;00m\n\u001b[1;32m--> 285\u001b[0m index \u001b[39m=\u001b[39m Index(\n\u001b[0;32m    286\u001b[0m     idgroup, name, atom\u001b[39m=\u001b[39;49matom,\n\u001b[0;32m    287\u001b[0m     title\u001b[39m=\u001b[39;49m\u001b[39m\"\u001b[39;49m\u001b[39mIndex for \u001b[39;49m\u001b[39m%s\u001b[39;49;00m\u001b[39m column\u001b[39;49m\u001b[39m\"\u001b[39;49m \u001b[39m%\u001b[39;49m name,\n\u001b[0;32m    288\u001b[0m     kind\u001b[39m=\u001b[39;49mkind,\n\u001b[0;32m    289\u001b[0m     optlevel\u001b[39m=\u001b[39;49moptlevel,\n\u001b[0;32m    290\u001b[0m     filters\u001b[39m=\u001b[39;49mfilters,\n\u001b[0;32m    291\u001b[0m     tmp_dir\u001b[39m=\u001b[39;49mtmp_dir,\n\u001b[0;32m    292\u001b[0m     expectedrows\u001b[39m=\u001b[39;49mexpectedrows,\n\u001b[0;32m    293\u001b[0m     byteorder\u001b[39m=\u001b[39;49mtable\u001b[39m.\u001b[39;49mbyteorder,\n\u001b[0;32m    294\u001b[0m     blocksizes\u001b[39m=\u001b[39;49mblocksizes)\n\u001b[0;32m    296\u001b[0m table\u001b[39m.\u001b[39m_set_column_indexing(\u001b[39mself\u001b[39m\u001b[39m.\u001b[39mpathname, \u001b[39mTrue\u001b[39;00m)\n\u001b[0;32m    298\u001b[0m \u001b[39m# Feed the index with values\u001b[39;00m\n\u001b[0;32m    299\u001b[0m \n\u001b[0;32m    300\u001b[0m \u001b[39m# Add rows to the index if necessary\u001b[39;00m\n",
      "File \u001b[1;32m~\\AppData\\Local\\Packages\\PythonSoftwareFoundation.Python.3.11_qbz5n2kfra8p0\\LocalCache\\local-packages\\Python311\\site-packages\\tables\\index.py:381\u001b[0m, in \u001b[0;36mIndex.__init__\u001b[1;34m(self, parentnode, name, atom, title, kind, optlevel, filters, tmp_dir, expectedrows, byteorder, blocksizes, new)\u001b[0m\n\u001b[0;32m    378\u001b[0m \u001b[39mself\u001b[39m\u001b[39m.\u001b[39m_openFile \u001b[39m=\u001b[39m open_file\n\u001b[0;32m    379\u001b[0m \u001b[39m\u001b[39m\u001b[39m\"\"\"The `open_file()` function, to avoid a circular import.\"\"\"\u001b[39;00m\n\u001b[1;32m--> 381\u001b[0m \u001b[39msuper\u001b[39;49m()\u001b[39m.\u001b[39;49m\u001b[39m__init__\u001b[39;49m(parentnode, name, title, new, filters)\n",
      "File \u001b[1;32m~\\AppData\\Local\\Packages\\PythonSoftwareFoundation.Python.3.11_qbz5n2kfra8p0\\LocalCache\\local-packages\\Python311\\site-packages\\tables\\group.py:221\u001b[0m, in \u001b[0;36mGroup.__init__\u001b[1;34m(self, parentnode, name, title, new, filters, _log)\u001b[0m\n\u001b[0;32m    212\u001b[0m \u001b[39m\u001b[39m\u001b[39m\"\"\"Maximum number of children on each group before warning the user.\u001b[39;00m\n\u001b[0;32m    213\u001b[0m \n\u001b[0;32m    214\u001b[0m \u001b[39m.. versionchanged:: 3.0\u001b[39;00m\n\u001b[1;32m   (...)\u001b[0m\n\u001b[0;32m    217\u001b[0m \n\u001b[0;32m    218\u001b[0m \u001b[39m\"\"\"\u001b[39;00m\n\u001b[0;32m    220\u001b[0m \u001b[39m# Finally, set up this object as a node.\u001b[39;00m\n\u001b[1;32m--> 221\u001b[0m \u001b[39msuper\u001b[39;49m()\u001b[39m.\u001b[39;49m\u001b[39m__init__\u001b[39;49m(parentnode, name, _log)\n",
      "File \u001b[1;32m~\\AppData\\Local\\Packages\\PythonSoftwareFoundation.Python.3.11_qbz5n2kfra8p0\\LocalCache\\local-packages\\Python311\\site-packages\\tables\\node.py:258\u001b[0m, in \u001b[0;36mNode.__init__\u001b[1;34m(self, parentnode, name, _log)\u001b[0m\n\u001b[0;32m    255\u001b[0m         \u001b[39mself\u001b[39m\u001b[39m.\u001b[39m_g_log_create()\n\u001b[0;32m    257\u001b[0m     \u001b[39m# This allows extra operations after creating the node.\u001b[39;00m\n\u001b[1;32m--> 258\u001b[0m     \u001b[39mself\u001b[39;49m\u001b[39m.\u001b[39;49m_g_post_init_hook()\n\u001b[0;32m    259\u001b[0m \u001b[39mexcept\u001b[39;00m \u001b[39mException\u001b[39;00m:\n\u001b[0;32m    260\u001b[0m     \u001b[39m# If anything happens, the node must be closed\u001b[39;00m\n\u001b[0;32m    261\u001b[0m     \u001b[39m# to undo every possible registration made so far.\u001b[39;00m\n\u001b[0;32m    262\u001b[0m     \u001b[39m# We do *not* rely on ``__del__()`` doing it later,\u001b[39;00m\n\u001b[0;32m    263\u001b[0m     \u001b[39m# since it might never be called anyway.\u001b[39;00m\n\u001b[0;32m    264\u001b[0m     \u001b[39mself\u001b[39m\u001b[39m.\u001b[39m_f_close()\n",
      "File \u001b[1;32m~\\AppData\\Local\\Packages\\PythonSoftwareFoundation.Python.3.11_qbz5n2kfra8p0\\LocalCache\\local-packages\\Python311\\site-packages\\tables\\index.py:514\u001b[0m, in \u001b[0;36mIndex._g_post_init_hook\u001b[1;34m(self)\u001b[0m\n\u001b[0;32m    512\u001b[0m \u001b[39m# Create the Array for the number of chunk in last row\u001b[39;00m\n\u001b[0;32m    513\u001b[0m shape \u001b[39m=\u001b[39m (\u001b[39mself\u001b[39m\u001b[39m.\u001b[39mslicesize,)     \u001b[39m# enough for indexes and length\u001b[39;00m\n\u001b[1;32m--> 514\u001b[0m indicesLR \u001b[39m=\u001b[39m LastRowArray(\u001b[39mself\u001b[39;49m, \u001b[39m'\u001b[39;49m\u001b[39mindicesLR\u001b[39;49m\u001b[39m'\u001b[39;49m,\n\u001b[0;32m    515\u001b[0m                          UIntAtom(itemsize\u001b[39m=\u001b[39;49m\u001b[39mself\u001b[39;49m\u001b[39m.\u001b[39;49mindsize),\n\u001b[0;32m    516\u001b[0m                          shape, \u001b[39m\"\u001b[39;49m\u001b[39mLast Row indices\u001b[39;49m\u001b[39m\"\u001b[39;49m,\n\u001b[0;32m    517\u001b[0m                          filters, (\u001b[39mself\u001b[39;49m\u001b[39m.\u001b[39;49mchunksize,),\n\u001b[0;32m    518\u001b[0m                          byteorder\u001b[39m=\u001b[39;49m\u001b[39mself\u001b[39;49m\u001b[39m.\u001b[39;49mbyteorder)\n\u001b[0;32m    520\u001b[0m \u001b[39m# The number of elements in LR will be initialized here\u001b[39;00m\n\u001b[0;32m    521\u001b[0m sortedLR\u001b[39m.\u001b[39mattrs\u001b[39m.\u001b[39mnelements \u001b[39m=\u001b[39m \u001b[39m0\u001b[39m\n",
      "File \u001b[1;32m~\\AppData\\Local\\Packages\\PythonSoftwareFoundation.Python.3.11_qbz5n2kfra8p0\\LocalCache\\local-packages\\Python311\\site-packages\\tables\\carray.py:200\u001b[0m, in \u001b[0;36mCArray.__init__\u001b[1;34m(self, parentnode, name, atom, shape, title, filters, chunkshape, byteorder, _log, track_times)\u001b[0m\n\u001b[0;32m    197\u001b[0m         \u001b[39mself\u001b[39m\u001b[39m.\u001b[39m_v_chunkshape \u001b[39m=\u001b[39m \u001b[39mtuple\u001b[39m(SizeType(s) \u001b[39mfor\u001b[39;00m s \u001b[39min\u001b[39;00m chunkshape)\n\u001b[0;32m    199\u001b[0m \u001b[39m# The `Array` class is not abstract enough! :(\u001b[39;00m\n\u001b[1;32m--> 200\u001b[0m \u001b[39msuper\u001b[39;49m(Array, \u001b[39mself\u001b[39;49m)\u001b[39m.\u001b[39;49m\u001b[39m__init__\u001b[39;49m(parentnode, name, new, filters,\n\u001b[0;32m    201\u001b[0m                             byteorder, _log, track_times)\n",
      "File \u001b[1;32m~\\AppData\\Local\\Packages\\PythonSoftwareFoundation.Python.3.11_qbz5n2kfra8p0\\LocalCache\\local-packages\\Python311\\site-packages\\tables\\leaf.py:264\u001b[0m, in \u001b[0;36mLeaf.__init__\u001b[1;34m(self, parentnode, name, new, filters, byteorder, _log, track_times)\u001b[0m\n\u001b[0;32m    259\u001b[0m \u001b[39mself\u001b[39m\u001b[39m.\u001b[39m_want_track_times \u001b[39m=\u001b[39m track_times\n\u001b[0;32m    261\u001b[0m \u001b[39m# Existing filters need not be read since `filters`\u001b[39;00m\n\u001b[0;32m    262\u001b[0m \u001b[39m# is a lazy property that automatically handles their loading.\u001b[39;00m\n\u001b[1;32m--> 264\u001b[0m \u001b[39msuper\u001b[39;49m()\u001b[39m.\u001b[39;49m\u001b[39m__init__\u001b[39;49m(parentnode, name, _log)\n",
      "File \u001b[1;32m~\\AppData\\Local\\Packages\\PythonSoftwareFoundation.Python.3.11_qbz5n2kfra8p0\\LocalCache\\local-packages\\Python311\\site-packages\\tables\\node.py:249\u001b[0m, in \u001b[0;36mNode.__init__\u001b[1;34m(self, parentnode, name, _log)\u001b[0m\n\u001b[0;32m    247\u001b[0m \u001b[39m#   Create or open the node and get its object ID.\u001b[39;00m\n\u001b[0;32m    248\u001b[0m \u001b[39mif\u001b[39;00m new:\n\u001b[1;32m--> 249\u001b[0m     \u001b[39mself\u001b[39m\u001b[39m.\u001b[39m_v_objectid \u001b[39m=\u001b[39m \u001b[39mself\u001b[39;49m\u001b[39m.\u001b[39;49m_g_create()\n\u001b[0;32m    250\u001b[0m \u001b[39melse\u001b[39;00m:\n\u001b[0;32m    251\u001b[0m     \u001b[39mself\u001b[39m\u001b[39m.\u001b[39m_v_objectid \u001b[39m=\u001b[39m \u001b[39mself\u001b[39m\u001b[39m.\u001b[39m_g_open()\n",
      "File \u001b[1;32m~\\AppData\\Local\\Packages\\PythonSoftwareFoundation.Python.3.11_qbz5n2kfra8p0\\LocalCache\\local-packages\\Python311\\site-packages\\tables\\carray.py:210\u001b[0m, in \u001b[0;36mCArray._g_create\u001b[1;34m(self)\u001b[0m\n\u001b[0;32m    207\u001b[0m     \u001b[39mraise\u001b[39;00m \u001b[39mValueError\u001b[39;00m(\n\u001b[0;32m    208\u001b[0m         \u001b[39m\"\u001b[39m\u001b[39mshape parameter cannot have zero-dimensions.\u001b[39m\u001b[39m\"\u001b[39m)\n\u001b[0;32m    209\u001b[0m \u001b[39m# Finish the common part of creation process\u001b[39;00m\n\u001b[1;32m--> 210\u001b[0m \u001b[39mreturn\u001b[39;00m \u001b[39mself\u001b[39;49m\u001b[39m.\u001b[39;49m_g_create_common(\u001b[39mself\u001b[39;49m\u001b[39m.\u001b[39;49mnrows)\n",
      "File \u001b[1;32m~\\AppData\\Local\\Packages\\PythonSoftwareFoundation.Python.3.11_qbz5n2kfra8p0\\LocalCache\\local-packages\\Python311\\site-packages\\tables\\carray.py:231\u001b[0m, in \u001b[0;36mCArray._g_create_common\u001b[1;34m(self, expectedrows)\u001b[0m\n\u001b[0;32m    225\u001b[0m     \u001b[39mself\u001b[39m\u001b[39m.\u001b[39mbyteorder \u001b[39m=\u001b[39m correct_byteorder(\u001b[39mself\u001b[39m\u001b[39m.\u001b[39matom\u001b[39m.\u001b[39mtype, sys\u001b[39m.\u001b[39mbyteorder)\n\u001b[0;32m    227\u001b[0m \u001b[39mtry\u001b[39;00m:\n\u001b[0;32m    228\u001b[0m     \u001b[39m# ``self._v_objectid`` needs to be set because would be\u001b[39;00m\n\u001b[0;32m    229\u001b[0m     \u001b[39m# needed for setting attributes in some descendants later\u001b[39;00m\n\u001b[0;32m    230\u001b[0m     \u001b[39m# on\u001b[39;00m\n\u001b[1;32m--> 231\u001b[0m     \u001b[39mself\u001b[39m\u001b[39m.\u001b[39m_v_objectid \u001b[39m=\u001b[39m \u001b[39mself\u001b[39;49m\u001b[39m.\u001b[39;49m_create_carray(\u001b[39mself\u001b[39;49m\u001b[39m.\u001b[39;49m_v_new_title)\n\u001b[0;32m    232\u001b[0m \u001b[39mexcept\u001b[39;00m \u001b[39mException\u001b[39;00m:  \u001b[39m# XXX\u001b[39;00m\n\u001b[0;32m    233\u001b[0m     \u001b[39m# Problems creating the Array on disk. Close node and re-raise.\u001b[39;00m\n\u001b[0;32m    234\u001b[0m     \u001b[39mself\u001b[39m\u001b[39m.\u001b[39mclose(flush\u001b[39m=\u001b[39m\u001b[39m0\u001b[39m)\n",
      "File \u001b[1;32m~\\AppData\\Local\\Packages\\PythonSoftwareFoundation.Python.3.11_qbz5n2kfra8p0\\LocalCache\\local-packages\\Python311\\site-packages\\tables\\hdf5extension.pyx:1420\u001b[0m, in \u001b[0;36mtables.hdf5extension.Array._create_carray\u001b[1;34m()\u001b[0m\n",
      "\u001b[1;31mHDF5ExtError\u001b[0m: Problems creating the LastRowArray."
     ]
    }
   ],
   "source": [
    "def extract_h5(repertoire_source):\n",
    "    extract={}\n",
    "    for nom_fichier in os.listdir(repertoire_source):\n",
    "        if nom_fichier[-3:]=='.h5':\n",
    "            ddf=fonctions.lire_hdf_dask(nom_fichier, repertoire_source)\n",
    "            extract[nom_fichier]=ddf\n",
    "            print(f\"DataFrame Dask du fichier {nom_fichier} a été chargé\")\n",
    "    return extract\n",
    "\n",
    "current_rep=os.getcwd()\n",
    "extract=extract_h5(current_rep)\n",
    "            \n"
   ]
  },
  {
   "cell_type": "code",
   "execution_count": 28,
   "metadata": {},
   "outputs": [
    {
     "name": "stdout",
     "output_type": "stream",
     "text": [
      "276\n",
      "1002\n",
      "1002\n"
     ]
    },
    {
     "data": {
      "text/plain": [
       "0       5796\n",
       "1       5774\n",
       "2       5849\n",
       "3       6194\n",
       "4       5158\n",
       "        ... \n",
       "997     4925\n",
       "998     9408\n",
       "999     7416\n",
       "1000    6234\n",
       "1001    4740\n",
       "Length: 1002, dtype: int64"
      ]
     },
     "execution_count": 28,
     "metadata": {},
     "output_type": "execute_result"
    }
   ],
   "source": [
    "extract[\"Aircraft_01.h5\"].partitions[0].head()\n",
    "print(extract[\"Aircraft_01.h5\"].npartitions)\n",
    "print(extract[\"Aircraft_02.h5\"].npartitions)\n",
    "print(extract[\"Aircraft_03.h5\"].npartitions)\n",
    "extract[\"Aircraft_02.h5\"].partitions[50].head()\n",
    "extract[\"Aircraft_02.h5\"].columns\n",
    "res = extract[\"Aircraft_02.h5\"].map_partitions(lambda df: len(df['M [Mach]']))\n",
    "res.compute()"
   ]
  }
 ],
 "metadata": {
  "kernelspec": {
   "display_name": "Python 3",
   "language": "python",
   "name": "python3"
  },
  "language_info": {
   "codemirror_mode": {
    "name": "ipython",
    "version": 3
   },
   "file_extension": ".py",
   "mimetype": "text/x-python",
   "name": "python",
   "nbconvert_exporter": "python",
   "pygments_lexer": "ipython3",
   "version": "3.11.6"
  }
 },
 "nbformat": 4,
 "nbformat_minor": 2
}
