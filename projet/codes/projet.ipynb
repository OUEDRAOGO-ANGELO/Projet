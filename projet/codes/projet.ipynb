{
 "cells": [
  {
   "cell_type": "code",
   "execution_count": 30,
   "metadata": {},
   "outputs": [],
   "source": [
    "#!pip install dask[complete]"
   ]
  },
  {
   "cell_type": "code",
   "execution_count": 1,
   "metadata": {},
   "outputs": [],
   "source": [
    "import dask.dataframe as dd\n",
    "import numpy \n",
    "import pandas as pd\n",
    "import os\n",
    "from commun import fonctions as fct\n",
    "from commun import fonction_plot as fp \n",
    "from commun import Opset as Op\n",
    "\n",
    "import matplotlib.pyplot as plt"
   ]
  },
  {
   "cell_type": "code",
   "execution_count": 5,
   "metadata": {},
   "outputs": [
    {
     "name": "stdout",
     "output_type": "stream",
     "text": [
      "DataFrame Dask du fichier Aircraft_01.h5 a été chargé\n",
      "DataFrame Dask du fichier Aircraft_02.h5 a été chargé\n",
      "DataFrame Dask du fichier Aircraft_03.h5 a été chargé\n"
     ]
    }
   ],
   "source": [
    "def extract_h5(repertoire_source):\n",
    "    extract={}\n",
    "    \n",
    "    for nom_fichier in os.listdir(repertoire_source):\n",
    "        if nom_fichier[-3:]=='.h5':\n",
    "            ddf=fct.lire_hdf_dask(nom_fichier, repertoire_source)\n",
    "            extract[nom_fichier]=ddf\n",
    "            print(f\"DataFrame Dask du fichier {nom_fichier} a été chargé\")\n",
    "    return extract\n",
    "\n",
    "chemin_repertoire=\"/Users/renaud/Desktop/Laptop_Ubuntu/MACS3/Statistiques/projet/data\"\n",
    "\n",
    "# La variable extract est un dictionnaire dans lequel chaque paire clé-valeur correspond à un Dask DataFrame associé à un avion\n",
    "\n",
    "extract=extract_h5(chemin_repertoire)\n",
    "            \n"
   ]
  },
  {
   "cell_type": "markdown",
   "metadata": {},
   "source": [
    "# Affichage interactif des caractéristiques de chaque vol pour les 3 avions"
   ]
  },
  {
   "cell_type": "code",
   "execution_count": 8,
   "metadata": {},
   "outputs": [
    {
     "name": "stdout",
     "output_type": "stream",
     "text": [
      "passe\n"
     ]
    },
    {
     "data": {
      "application/vnd.jupyter.widget-view+json": {
       "model_id": "c6c2a34f1d46444cb4b668a0c2275e49",
       "version_major": 2,
       "version_minor": 0
      },
      "text/plain": [
       "VBox(children=(HBox(children=(Dropdown(description='Variable :', options=('ALT [ft]', 'EGT_1 [deg C]', 'EGT_2 …"
      ]
     },
     "execution_count": 8,
     "metadata": {},
     "output_type": "execute_result"
    }
   ],
   "source": [
    "\n",
    "for i in range(1):\n",
    "    ds=Op.Opset(chemin_repertoire + \"/\" + keys[0])\n",
    "\n",
    "ds.plotc()\n",
    "    "
   ]
  },
  {
   "cell_type": "code",
   "execution_count": 7,
   "metadata": {},
   "outputs": [
    {
     "name": "stdout",
     "output_type": "stream",
     "text": [
      "L'avion Aircraft_01.h5 contient 1001 partitions.\n",
      "L'avion Aircraft_02.h5 contient 1002 partitions.\n",
      "L'avion Aircraft_03.h5 contient 1002 partitions.\n"
     ]
    }
   ],
   "source": [
    "# Récupération des clés du dictionnaire \n",
    "keys=list(extract.keys())\n",
    "\n",
    "List_chemins=[]\n",
    "for key in keys:\n",
    "    #Affichage du nombre de partitions de chaque avion\n",
    "    print(f\"L'avion {key} contient {extract[key].npartitions} partitions.\")\n",
    "    \n",
    "    #Affichage interactif\n",
    "    ds=Op.Opset(chemin_repertoire + \"/\" + key)\n",
    "    ds.plot()\n",
    "    \n"
   ]
  },
  {
   "cell_type": "code",
   "execution_count": null,
   "metadata": {},
   "outputs": [],
   "source": []
  }
 ],
 "metadata": {
  "kernelspec": {
   "display_name": "Python 3",
   "language": "python",
   "name": "python3"
  },
  "language_info": {
   "codemirror_mode": {
    "name": "ipython",
    "version": 3
   },
   "file_extension": ".py",
   "mimetype": "text/x-python",
   "name": "python",
   "nbconvert_exporter": "python",
   "pygments_lexer": "ipython3",
   "version": "3.11.5"
  }
 },
 "nbformat": 4,
 "nbformat_minor": 2
}
