{
 "cells": [
  {
   "cell_type": "code",
   "execution_count": 1,
   "metadata": {},
   "outputs": [],
   "source": [
    "#!pip install dask[complete]"
   ]
  },
  {
   "cell_type": "code",
   "execution_count": 2,
   "metadata": {},
   "outputs": [],
   "source": [
    "import dask.dataframe as dd\n",
    "import numpy \n",
    "import pandas as pd\n",
    "import os\n",
    "from commun import fonctions as fct\n",
    "from commun import fonction_plot as fp \n",
    "from commun import Opset as Op\n",
    "from IPython.display import display\n",
    "\n",
    "\n",
    "import matplotlib.pyplot as plt"
   ]
  },
  {
   "cell_type": "code",
   "execution_count": 3,
   "metadata": {},
   "outputs": [
    {
     "name": "stdout",
     "output_type": "stream",
     "text": [
      "DataFrame Dask du fichier Aircraft_01.h5 a été chargé\n",
      "DataFrame Dask du fichier Aircraft_02.h5 a été chargé\n",
      "DataFrame Dask du fichier Aircraft_03.h5 a été chargé\n"
     ]
    }
   ],
   "source": [
    "def extract_h5(repertoire_source):\n",
    "    extract={}\n",
    "    \n",
    "    for nom_fichier in os.listdir(repertoire_source):\n",
    "        if nom_fichier[-3:]=='.h5':\n",
    "            ddf=fct.lire_hdf_dask(nom_fichier, repertoire_source)\n",
    "            extract[nom_fichier]=ddf\n",
    "            print(f\"DataFrame Dask du fichier {nom_fichier} a été chargé\")\n",
    "    return extract\n",
    "\n",
    "chemin_repertoire=\"/Users/renaud/Desktop/Laptop_Ubuntu/MACS3/Statistiques/projet/data\"\n",
    "\n",
    "# La variable extract est un dictionnaire dans lequel chaque paire clé-valeur correspond à un Dask DataFrame associé à un avion\n",
    "\n",
    "extract=extract_h5(chemin_repertoire)\n",
    "            \n"
   ]
  },
  {
   "cell_type": "markdown",
   "metadata": {},
   "source": [
    "# Affichage interactif des caractéristiques de chaque vol pour les 3 avions"
   ]
  },
  {
   "cell_type": "code",
   "execution_count": 4,
   "metadata": {},
   "outputs": [
    {
     "name": "stdout",
     "output_type": "stream",
     "text": [
      "L'avion Aircraft_01.h5 contient 1001 partitions.\n",
      "L'avion Aircraft_02.h5 contient 1002 partitions.\n",
      "L'avion Aircraft_03.h5 contient 1002 partitions.\n"
     ]
    },
    {
     "data": {
      "application/vnd.jupyter.widget-view+json": {
       "model_id": "b7340d072da349308eb7546ed106e1c1",
       "version_major": 2,
       "version_minor": 0
      },
      "text/plain": [
       "VBox(children=(HBox(children=(Dropdown(description='Variable :', options=('ALT [ft]', 'EGT_1 [deg C]', 'EGT_2 …"
      ]
     },
     "metadata": {},
     "output_type": "display_data"
    },
    {
     "data": {
      "application/vnd.jupyter.widget-view+json": {
       "model_id": "d7ce6d8c96714adeae416a56c11a6807",
       "version_major": 2,
       "version_minor": 0
      },
      "text/plain": [
       "VBox(children=(HBox(children=(Dropdown(description='Variable :', options=('ALT [ft]', 'EGT_1 [deg C]', 'EGT_2 …"
      ]
     },
     "metadata": {},
     "output_type": "display_data"
    },
    {
     "data": {
      "application/vnd.jupyter.widget-view+json": {
       "model_id": "3fad01ee02fb4c2897e88b693debf794",
       "version_major": 2,
       "version_minor": 0
      },
      "text/plain": [
       "VBox(children=(HBox(children=(Dropdown(description='Variable :', options=('ALT [ft]', 'EGT_1 [deg C]', 'EGT_2 …"
      ]
     },
     "metadata": {},
     "output_type": "display_data"
    }
   ],
   "source": [
    "# Récupération des clés du dictionnaire \n",
    "keys=list(extract.keys())\n",
    "\n",
    "List_chemins=[]\n",
    "for key in keys:\n",
    "    #Affichage du nombre de partitions de chaque avion\n",
    "    print(f\"L'avion {key} contient {extract[key].npartitions} partitions.\")\n",
    " \n",
    "\n",
    "    #Affichage interactif\n",
    "for key in keys:\n",
    "    ds1=(Op.Opset(chemin_repertoire + \"/\" + key)).plotc()\n",
    "    display(ds1)\n",
    "\n",
    "\n"
   ]
  },
  {
   "cell_type": "code",
   "execution_count": null,
   "metadata": {},
   "outputs": [],
   "source": [
    "\n",
    "\n",
    "\n",
    "\n",
    "    "
   ]
  }
 ],
 "metadata": {
  "kernelspec": {
   "display_name": "Python 3",
   "language": "python",
   "name": "python3"
  },
  "language_info": {
   "codemirror_mode": {
    "name": "ipython",
    "version": 3
   },
   "file_extension": ".py",
   "mimetype": "text/x-python",
   "name": "python",
   "nbconvert_exporter": "python",
   "pygments_lexer": "ipython3",
   "version": "3.11.5"
  }
 },
 "nbformat": 4,
 "nbformat_minor": 2
}
