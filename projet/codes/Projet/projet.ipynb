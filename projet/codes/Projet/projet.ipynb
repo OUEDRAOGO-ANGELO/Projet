{
 "cells": [
  {
   "cell_type": "code",
   "execution_count": 9,
   "metadata": {},
   "outputs": [],
   "source": [
    "#!pip install dask[complete]"
   ]
  },
  {
   "cell_type": "code",
   "execution_count": 10,
   "metadata": {},
   "outputs": [],
   "source": [
    "import dask.dataframe as dd\n",
    "import numpy \n",
    "import pandas as pd\n",
    "import os\n",
    "from commun import fonctions as fct\n",
    "from commun import fonction_plot as fp \n",
    "from commun import Opset as Op\n",
    "\n",
    "import matplotlib.pyplot as plt"
   ]
  },
  {
   "cell_type": "code",
   "execution_count": 11,
   "metadata": {},
   "outputs": [
    {
     "ename": "PermissionError",
     "evalue": "An error occurred while calling the read_hdf method registered to the pandas backend.\nOriginal Message: [Errno 1] Operation not permitted",
     "output_type": "error",
     "traceback": [
      "\u001b[0;31m---------------------------------------------------------------------------\u001b[0m",
      "\u001b[0;31mPermissionError\u001b[0m                           Traceback (most recent call last)",
      "File \u001b[0;32m~/anaconda3/envs/statistiqueMACS3/lib/python3.11/site-packages/dask/backends.py:136\u001b[0m, in \u001b[0;36mCreationDispatch.register_inplace.<locals>.decorator.<locals>.wrapper\u001b[0;34m(*args, **kwargs)\u001b[0m\n\u001b[1;32m    135\u001b[0m \u001b[39mtry\u001b[39;00m:\n\u001b[0;32m--> 136\u001b[0m     \u001b[39mreturn\u001b[39;00m func(\u001b[39m*\u001b[39margs, \u001b[39m*\u001b[39m\u001b[39m*\u001b[39mkwargs)\n\u001b[1;32m    137\u001b[0m \u001b[39mexcept\u001b[39;00m \u001b[39mException\u001b[39;00m \u001b[39mas\u001b[39;00m e:\n",
      "File \u001b[0;32m~/anaconda3/envs/statistiqueMACS3/lib/python3.11/site-packages/dask/dataframe/io/hdf.py:439\u001b[0m, in \u001b[0;36mread_hdf\u001b[0;34m(pattern, key, start, stop, columns, chunksize, sorted_index, lock, mode)\u001b[0m\n\u001b[1;32m    438\u001b[0m \u001b[39m# Build metadata\u001b[39;00m\n\u001b[0;32m--> 439\u001b[0m \u001b[39mwith\u001b[39;00m pd\u001b[39m.\u001b[39mHDFStore(paths[\u001b[39m0\u001b[39m], mode\u001b[39m=\u001b[39mmode) \u001b[39mas\u001b[39;00m hdf:\n\u001b[1;32m    440\u001b[0m     meta_key \u001b[39m=\u001b[39m _expand_key(key, hdf)[\u001b[39m0\u001b[39m]\n",
      "File \u001b[0;32m~/anaconda3/envs/statistiqueMACS3/lib/python3.11/site-packages/pandas/io/pytables.py:578\u001b[0m, in \u001b[0;36mHDFStore.__init__\u001b[0;34m(self, path, mode, complevel, complib, fletcher32, **kwargs)\u001b[0m\n\u001b[1;32m    577\u001b[0m \u001b[39mself\u001b[39m\u001b[39m.\u001b[39m_filters \u001b[39m=\u001b[39m \u001b[39mNone\u001b[39;00m\n\u001b[0;32m--> 578\u001b[0m \u001b[39mself\u001b[39m\u001b[39m.\u001b[39mopen(mode\u001b[39m=\u001b[39mmode, \u001b[39m*\u001b[39m\u001b[39m*\u001b[39mkwargs)\n",
      "File \u001b[0;32m~/anaconda3/envs/statistiqueMACS3/lib/python3.11/site-packages/pandas/io/pytables.py:737\u001b[0m, in \u001b[0;36mHDFStore.open\u001b[0;34m(self, mode, **kwargs)\u001b[0m\n\u001b[1;32m    735\u001b[0m     \u001b[39mraise\u001b[39;00m \u001b[39mValueError\u001b[39;00m(msg)\n\u001b[0;32m--> 737\u001b[0m \u001b[39mself\u001b[39m\u001b[39m.\u001b[39m_handle \u001b[39m=\u001b[39m tables\u001b[39m.\u001b[39mopen_file(\u001b[39mself\u001b[39m\u001b[39m.\u001b[39m_path, \u001b[39mself\u001b[39m\u001b[39m.\u001b[39m_mode, \u001b[39m*\u001b[39m\u001b[39m*\u001b[39mkwargs)\n",
      "File \u001b[0;32m~/anaconda3/envs/statistiqueMACS3/lib/python3.11/site-packages/tables/file.py:300\u001b[0m, in \u001b[0;36mopen_file\u001b[0;34m(filename, mode, title, root_uep, filters, **kwargs)\u001b[0m\n\u001b[1;32m    299\u001b[0m \u001b[39m# Finally, create the File instance, and return it\u001b[39;00m\n\u001b[0;32m--> 300\u001b[0m \u001b[39mreturn\u001b[39;00m File(filename, mode, title, root_uep, filters, \u001b[39m*\u001b[39m\u001b[39m*\u001b[39mkwargs)\n",
      "File \u001b[0;32m~/anaconda3/envs/statistiqueMACS3/lib/python3.11/site-packages/tables/file.py:750\u001b[0m, in \u001b[0;36mFile.__init__\u001b[0;34m(self, filename, mode, title, root_uep, filters, **kwargs)\u001b[0m\n\u001b[1;32m    749\u001b[0m \u001b[39m# Now, it is time to initialize the File extension\u001b[39;00m\n\u001b[0;32m--> 750\u001b[0m \u001b[39mself\u001b[39m\u001b[39m.\u001b[39m_g_new(filename, mode, \u001b[39m*\u001b[39m\u001b[39m*\u001b[39mparams)\n\u001b[1;32m    752\u001b[0m \u001b[39m# Check filters and set PyTables format version for new files.\u001b[39;00m\n",
      "File \u001b[0;32m~/anaconda3/envs/statistiqueMACS3/lib/python3.11/site-packages/tables/hdf5extension.pyx:366\u001b[0m, in \u001b[0;36mtables.hdf5extension.File._g_new\u001b[0;34m()\u001b[0m\n",
      "File \u001b[0;32m~/anaconda3/envs/statistiqueMACS3/lib/python3.11/site-packages/tables/utils.py:138\u001b[0m, in \u001b[0;36mcheck_file_access\u001b[0;34m(filename, mode)\u001b[0m\n\u001b[1;32m    125\u001b[0m \u001b[39m\u001b[39m\u001b[39m\"\"\"Check for file access in the specified `mode`.\u001b[39;00m\n\u001b[1;32m    126\u001b[0m \n\u001b[1;32m    127\u001b[0m \u001b[39m`mode` is one of the modes supported by `File` objects.  If the file\u001b[39;00m\n\u001b[0;32m   (...)\u001b[0m\n\u001b[1;32m    135\u001b[0m \n\u001b[1;32m    136\u001b[0m \u001b[39m\"\"\"\u001b[39;00m\n\u001b[0;32m--> 138\u001b[0m path \u001b[39m=\u001b[39m Path(filename)\u001b[39m.\u001b[39mresolve()\n\u001b[1;32m    140\u001b[0m \u001b[39mif\u001b[39;00m mode \u001b[39m==\u001b[39m \u001b[39m'\u001b[39m\u001b[39mr\u001b[39m\u001b[39m'\u001b[39m:\n\u001b[1;32m    141\u001b[0m     \u001b[39m# The file should be readable.\u001b[39;00m\n",
      "File \u001b[0;32m~/anaconda3/envs/statistiqueMACS3/lib/python3.11/pathlib.py:993\u001b[0m, in \u001b[0;36mPath.resolve\u001b[0;34m(self, strict)\u001b[0m\n\u001b[1;32m    992\u001b[0m \u001b[39mtry\u001b[39;00m:\n\u001b[0;32m--> 993\u001b[0m     s \u001b[39m=\u001b[39m os\u001b[39m.\u001b[39mpath\u001b[39m.\u001b[39mrealpath(\u001b[39mself\u001b[39m, strict\u001b[39m=\u001b[39mstrict)\n\u001b[1;32m    994\u001b[0m \u001b[39mexcept\u001b[39;00m \u001b[39mOSError\u001b[39;00m \u001b[39mas\u001b[39;00m e:\n",
      "File \u001b[0;32m<frozen posixpath>:417\u001b[0m, in \u001b[0;36mrealpath\u001b[0;34m(filename, strict)\u001b[0m\n",
      "File \u001b[0;32m<frozen posixpath>:404\u001b[0m, in \u001b[0;36mabspath\u001b[0;34m(path)\u001b[0m\n",
      "\u001b[0;31mPermissionError\u001b[0m: [Errno 1] Operation not permitted",
      "\nThe above exception was the direct cause of the following exception:\n",
      "\u001b[0;31mPermissionError\u001b[0m                           Traceback (most recent call last)",
      "\u001b[1;32m/Users/renaud/Desktop/Laptop_Ubuntu/MACS3/Statistiques/projet/codes/Projet/projet.ipynb Cellule 3\u001b[0m line \u001b[0;36m1\n\u001b[1;32m     <a href='vscode-notebook-cell:/Users/renaud/Desktop/Laptop_Ubuntu/MACS3/Statistiques/projet/codes/Projet/projet.ipynb#W2sZmlsZQ%3D%3D?line=10'>11</a>\u001b[0m chemin_repertoire\u001b[39m=\u001b[39m\u001b[39m\"\u001b[39m\u001b[39m/Users/renaud/Desktop/Laptop_Ubuntu/MACS3/Statistiques/projet/data\u001b[39m\u001b[39m\"\u001b[39m\n\u001b[1;32m     <a href='vscode-notebook-cell:/Users/renaud/Desktop/Laptop_Ubuntu/MACS3/Statistiques/projet/codes/Projet/projet.ipynb#W2sZmlsZQ%3D%3D?line=12'>13</a>\u001b[0m \u001b[39m# La variable extract est un dictionnaire dans lequel chaque paire clé-valeur correspond à un Dask DataFrame associé à un avion\u001b[39;00m\n\u001b[0;32m---> <a href='vscode-notebook-cell:/Users/renaud/Desktop/Laptop_Ubuntu/MACS3/Statistiques/projet/codes/Projet/projet.ipynb#W2sZmlsZQ%3D%3D?line=14'>15</a>\u001b[0m extract\u001b[39m=\u001b[39mextract_h5(chemin_repertoire)\n",
      "\u001b[1;32m/Users/renaud/Desktop/Laptop_Ubuntu/MACS3/Statistiques/projet/codes/Projet/projet.ipynb Cellule 3\u001b[0m line \u001b[0;36m6\n\u001b[1;32m      <a href='vscode-notebook-cell:/Users/renaud/Desktop/Laptop_Ubuntu/MACS3/Statistiques/projet/codes/Projet/projet.ipynb#W2sZmlsZQ%3D%3D?line=3'>4</a>\u001b[0m \u001b[39mfor\u001b[39;00m nom_fichier \u001b[39min\u001b[39;00m os\u001b[39m.\u001b[39mlistdir(repertoire_source):\n\u001b[1;32m      <a href='vscode-notebook-cell:/Users/renaud/Desktop/Laptop_Ubuntu/MACS3/Statistiques/projet/codes/Projet/projet.ipynb#W2sZmlsZQ%3D%3D?line=4'>5</a>\u001b[0m     \u001b[39mif\u001b[39;00m nom_fichier[\u001b[39m-\u001b[39m\u001b[39m3\u001b[39m:]\u001b[39m==\u001b[39m\u001b[39m'\u001b[39m\u001b[39m.h5\u001b[39m\u001b[39m'\u001b[39m:\n\u001b[0;32m----> <a href='vscode-notebook-cell:/Users/renaud/Desktop/Laptop_Ubuntu/MACS3/Statistiques/projet/codes/Projet/projet.ipynb#W2sZmlsZQ%3D%3D?line=5'>6</a>\u001b[0m         ddf\u001b[39m=\u001b[39mfct\u001b[39m.\u001b[39mlire_hdf_dask(nom_fichier, repertoire_source)\n\u001b[1;32m      <a href='vscode-notebook-cell:/Users/renaud/Desktop/Laptop_Ubuntu/MACS3/Statistiques/projet/codes/Projet/projet.ipynb#W2sZmlsZQ%3D%3D?line=6'>7</a>\u001b[0m         extract[nom_fichier]\u001b[39m=\u001b[39mddf\n\u001b[1;32m      <a href='vscode-notebook-cell:/Users/renaud/Desktop/Laptop_Ubuntu/MACS3/Statistiques/projet/codes/Projet/projet.ipynb#W2sZmlsZQ%3D%3D?line=7'>8</a>\u001b[0m         \u001b[39mprint\u001b[39m(\u001b[39mf\u001b[39m\u001b[39m\"\u001b[39m\u001b[39mDataFrame Dask du fichier \u001b[39m\u001b[39m{\u001b[39;00mnom_fichier\u001b[39m}\u001b[39;00m\u001b[39m a été chargé\u001b[39m\u001b[39m\"\u001b[39m)\n",
      "File \u001b[0;32m~/Desktop/Laptop_Ubuntu/MACS3/Statistiques/projet/codes/Projet/commun/fonctions.py:30\u001b[0m, in \u001b[0;36mlire_hdf_dask\u001b[0;34m(nom_fichier, repertoire)\u001b[0m\n",
      "File \u001b[0;32m~/anaconda3/envs/statistiqueMACS3/lib/python3.11/site-packages/dask/backends.py:138\u001b[0m, in \u001b[0;36mCreationDispatch.register_inplace.<locals>.decorator.<locals>.wrapper\u001b[0;34m(*args, **kwargs)\u001b[0m\n\u001b[1;32m    136\u001b[0m     \u001b[39mreturn\u001b[39;00m func(\u001b[39m*\u001b[39margs, \u001b[39m*\u001b[39m\u001b[39m*\u001b[39mkwargs)\n\u001b[1;32m    137\u001b[0m \u001b[39mexcept\u001b[39;00m \u001b[39mException\u001b[39;00m \u001b[39mas\u001b[39;00m e:\n\u001b[0;32m--> 138\u001b[0m     \u001b[39mraise\u001b[39;00m \u001b[39mtype\u001b[39m(e)(\n\u001b[1;32m    139\u001b[0m         \u001b[39mf\u001b[39m\u001b[39m\"\u001b[39m\u001b[39mAn error occurred while calling the \u001b[39m\u001b[39m{\u001b[39;00mfuncname(func)\u001b[39m}\u001b[39;00m\u001b[39m \u001b[39m\u001b[39m\"\u001b[39m\n\u001b[1;32m    140\u001b[0m         \u001b[39mf\u001b[39m\u001b[39m\"\u001b[39m\u001b[39mmethod registered to the \u001b[39m\u001b[39m{\u001b[39;00m\u001b[39mself\u001b[39m\u001b[39m.\u001b[39mbackend\u001b[39m}\u001b[39;00m\u001b[39m backend.\u001b[39m\u001b[39m\\n\u001b[39;00m\u001b[39m\"\u001b[39m\n\u001b[1;32m    141\u001b[0m         \u001b[39mf\u001b[39m\u001b[39m\"\u001b[39m\u001b[39mOriginal Message: \u001b[39m\u001b[39m{\u001b[39;00me\u001b[39m}\u001b[39;00m\u001b[39m\"\u001b[39m\n\u001b[1;32m    142\u001b[0m     ) \u001b[39mfrom\u001b[39;00m \u001b[39me\u001b[39;00m\n",
      "\u001b[0;31mPermissionError\u001b[0m: An error occurred while calling the read_hdf method registered to the pandas backend.\nOriginal Message: [Errno 1] Operation not permitted"
     ]
    }
   ],
   "source": [
    "def extract_h5(repertoire_source):\n",
    "    extract={}\n",
    "    \n",
    "    for nom_fichier in os.listdir(repertoire_source):\n",
    "        if nom_fichier[-3:]=='.h5':\n",
    "            ddf=fct.lire_hdf_dask(nom_fichier, repertoire_source)\n",
    "            extract[nom_fichier]=ddf\n",
    "            print(f\"DataFrame Dask du fichier {nom_fichier} a été chargé\")\n",
    "    return extract\n",
    "\n",
    "chemin_repertoire=\"/Users/renaud/Desktop/Laptop_Ubuntu/MACS3/Statistiques/projet/data\"\n",
    "\n",
    "# La variable extract est un dictionnaire dans lequel chaque paire clé-valeur correspond à un Dask DataFrame associé à un avion\n",
    "\n",
    "extract=extract_h5(chemin_repertoire)\n",
    "            \n"
   ]
  },
  {
   "cell_type": "markdown",
   "metadata": {},
   "source": [
    "# Affichage interactif des caractéristiques de chaque vol pour les 3 avions"
   ]
  },
  {
   "cell_type": "code",
   "execution_count": null,
   "metadata": {},
   "outputs": [
    {
     "name": "stdout",
     "output_type": "stream",
     "text": [
      "passe\n"
     ]
    },
    {
     "data": {
      "application/vnd.jupyter.widget-view+json": {
       "model_id": "c6c2a34f1d46444cb4b668a0c2275e49",
       "version_major": 2,
       "version_minor": 0
      },
      "text/plain": [
       "VBox(children=(HBox(children=(Dropdown(description='Variable :', options=('ALT [ft]', 'EGT_1 [deg C]', 'EGT_2 …"
      ]
     },
     "execution_count": 8,
     "metadata": {},
     "output_type": "execute_result"
    }
   ],
   "source": [
    "\n",
    "for i in range(1):\n",
    "    ds=Op.Opset(chemin_repertoire + \"/\" + keys[0])\n",
    "\n",
    "ds.plotc()\n",
    "    "
   ]
  },
  {
   "cell_type": "code",
   "execution_count": null,
   "metadata": {},
   "outputs": [
    {
     "name": "stdout",
     "output_type": "stream",
     "text": [
      "L'avion Aircraft_01.h5 contient 1001 partitions.\n",
      "L'avion Aircraft_02.h5 contient 1002 partitions.\n",
      "L'avion Aircraft_03.h5 contient 1002 partitions.\n"
     ]
    }
   ],
   "source": [
    "# Récupération des clés du dictionnaire \n",
    "keys=list(extract.keys())\n",
    "\n",
    "List_chemins=[]\n",
    "for key in keys:\n",
    "    #Affichage du nombre de partitions de chaque avion\n",
    "    print(f\"L'avion {key} contient {extract[key].npartitions} partitions.\")\n",
    "    \n",
    "    #Affichage interactif\n",
    "    ds=Op.Opset(chemin_repertoire + \"/\" + key)\n",
    "    ds.plot()\n",
    "    \n"
   ]
  },
  {
   "cell_type": "code",
   "execution_count": null,
   "metadata": {},
   "outputs": [],
   "source": []
  }
 ],
 "metadata": {
  "kernelspec": {
   "display_name": "Python 3",
   "language": "python",
   "name": "python3"
  },
  "language_info": {
   "codemirror_mode": {
    "name": "ipython",
    "version": 3
   },
   "file_extension": ".py",
   "mimetype": "text/x-python",
   "name": "python",
   "nbconvert_exporter": "python",
   "pygments_lexer": "ipython3",
   "version": "3.11.5"
  }
 },
 "nbformat": 4,
 "nbformat_minor": 2
}
